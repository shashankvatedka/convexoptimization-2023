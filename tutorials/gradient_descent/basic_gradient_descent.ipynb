{
 "cells": [
  {
   "cell_type": "code",
   "execution_count": 1,
   "metadata": {},
   "outputs": [],
   "source": [
    "import numpy as np\n",
    "%matplotlib inline\n",
    "import matplotlib.pyplot as plt"
   ]
  },
  {
   "cell_type": "code",
   "execution_count": 6,
   "metadata": {},
   "outputs": [],
   "source": [
    "n = 4\n",
    "coeffVec = np.random.rand(4)\n",
    "\n",
    "def f(x, coeffVec):\n",
    "    return(np.sum(np.abs(coeffVec)*(x**2))) \n",
    "\n",
    "def grad_f(x, coeffVec):\n",
    "    # f(x) = \\sum_i |a_i|x_i^2\n",
    "    return(2*np.abs(coeffVec)*x)"
   ]
  },
  {
   "cell_type": "code",
   "execution_count": 8,
   "metadata": {},
   "outputs": [
    {
     "name": "stdout",
     "output_type": "stream",
     "text": [
      "Initial value of x =  [1.32448289 3.87550944 1.07071481 1.68391612]\n",
      "Initial value of f(x) =  13.026000577664762\n",
      "Final value of x =  [1.85043171e-04 1.16441688e-06 1.38552204e-01 2.17576532e-03]\n",
      "Final value of f(x) =  0.0019622841211805785\n"
     ]
    }
   ],
   "source": [
    "delta = 0.01\n",
    "\n",
    "noSteps = 1000\n",
    "\n",
    "initX = 4*np.random.rand(n)\n",
    "print('Initial value of x = ',initX)\n",
    "print('Initial value of f(x) = ',f(initX,coeffVec))\n",
    "prevX = initX\n",
    "for i in range(noSteps):\n",
    "    newX = prevX - delta * grad_f(prevX, coeffVec)\n",
    "    prevX = newX.copy()\n",
    "\n",
    "print('Final value of x = ',newX)\n",
    "print('Final value of f(x) = ', f(newX, coeffVec))"
   ]
  },
  {
   "cell_type": "code",
   "execution_count": null,
   "metadata": {},
   "outputs": [],
   "source": []
  }
 ],
 "metadata": {
  "kernelspec": {
   "display_name": "base",
   "language": "python",
   "name": "python3"
  },
  "language_info": {
   "codemirror_mode": {
    "name": "ipython",
    "version": 3
   },
   "file_extension": ".py",
   "mimetype": "text/x-python",
   "name": "python",
   "nbconvert_exporter": "python",
   "pygments_lexer": "ipython3",
   "version": "3.9.13 (main, Aug 25 2022, 23:26:10) \n[GCC 11.2.0]"
  },
  "orig_nbformat": 4,
  "vscode": {
   "interpreter": {
    "hash": "9fe4db3273a6c0f04cdc42c00f5ed1266822c0ac17b4503aa8bfa985aabf643b"
   }
  }
 },
 "nbformat": 4,
 "nbformat_minor": 2
}
