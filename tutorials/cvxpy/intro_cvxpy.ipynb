{
 "cells": [
  {
   "cell_type": "code",
   "execution_count": 1,
   "metadata": {},
   "outputs": [],
   "source": [
    "import cvxpy as cp\n",
    "import numpy as np\n",
    "import matplotlib.pyplot as plt"
   ]
  },
  {
   "cell_type": "code",
   "execution_count": 16,
   "metadata": {},
   "outputs": [
    {
     "data": {
      "text/plain": [
       "inf"
      ]
     },
     "execution_count": 16,
     "metadata": {},
     "output_type": "execute_result"
    }
   ],
   "source": [
    "# create variables \n",
    "x = cp.Variable()\n",
    "y = cp.Variable()\n",
    "\n",
    "# Create constraints\n",
    "constraints = [x + y == 1,\n",
    "                x >= 1]\n",
    "\n",
    "# objective function\n",
    "obj_fun = cp.Maximize(x)\n",
    "\n",
    "prob = cp.Problem(obj_fun,constraints)\n",
    "prob.solve()"
   ]
  },
  {
   "cell_type": "code",
   "execution_count": 17,
   "metadata": {},
   "outputs": [
    {
     "name": "stdout",
     "output_type": "stream",
     "text": [
      "unbounded\n",
      "inf\n",
      "None None\n"
     ]
    }
   ],
   "source": [
    "print(prob.status)\n",
    "print(prob.value)\n",
    "print(x.value,y.value)"
   ]
  },
  {
   "cell_type": "code",
   "execution_count": 20,
   "metadata": {},
   "outputs": [
    {
     "data": {
      "image/png": "[encoded data removed]",
      "text/plain": [
       "<Figure size 640x480 with 1 Axes>"
      ]
     },
     "metadata": {},
     "output_type": "display_data"
    }
   ],
   "source": [
    "n = 2\n",
    "vecA = np.array([2,3])\n",
    "b = 1\n",
    "x1 = np.arange(-10,10,0.01)\n",
    "x2 = (1 - 2*x1)/3\n",
    "plt.plot(x1,x2)\n",
    "plt.grid(True)\n",
    "plt.show()"
   ]
  },
  {
   "cell_type": "markdown",
   "metadata": {},
   "source": [
    "Max flow problem"
   ]
  },
  {
   "cell_type": "code",
   "execution_count": 2,
   "metadata": {},
   "outputs": [],
   "source": [
    "# Variables\n",
    "x12 = cp.Variable()\n",
    "x13 = cp.Variable()\n",
    "x23 = cp.Variable()\n",
    "x32 = cp.Variable()\n",
    "x34 = cp.Variable()\n",
    "x24 = cp.Variable()\n",
    "# Constraints\n",
    "c12 = 2\n",
    "c13 = 1\n",
    "c32 = 1\n",
    "c34 = 1\n",
    "c24 = 1"
   ]
  },
  {
   "cell_type": "code",
   "execution_count": 11,
   "metadata": {},
   "outputs": [
    {
     "name": "stdout",
     "output_type": "stream",
     "text": [
      "Max flow =  1.9999999994728377\n"
     ]
    }
   ],
   "source": [
    "constraints = [x12 <= c12, x13<=c13, x23+x32 <= c32, x34 <= c34, x24<=c24, x12>=0, x13>=0, x23>=0, x32>=0, x34>=0, x24>=0, x12+x32-x23-x34==0, x13+x23-x34-x32==0]\n",
    "objective = cp.Maximize(x12+x13)\n",
    "prob = cp.Problem(objective, constraints)\n",
    "print(\"Max flow = \",prob.solve())"
   ]
  },
  {
   "cell_type": "code",
   "execution_count": 6,
   "metadata": {},
   "outputs": [
    {
     "name": "stdout",
     "output_type": "stream",
     "text": [
      "1.9999999999294633 0.9999999999652593 0.3333333260904436 0.33333332609044314 0.49999998312666444 0.49999998312666444\n"
     ]
    }
   ],
   "source": [
    "print(x12.value,x13.value,x23.value,x32.value,x34.value,x24.value)"
   ]
  },
  {
   "cell_type": "code",
   "execution_count": 38,
   "metadata": {},
   "outputs": [
    {
     "name": "stdout",
     "output_type": "stream",
     "text": [
      "[[0 2 1 0]\n",
      " [2 0 1 1]\n",
      " [1 1 0 1]\n",
      " [0 1 1 0]]\n",
      "[[0. 1. 1. 0.]\n",
      " [1. 0. 1. 1.]\n",
      " [1. 1. 0. 1.]\n",
      " [0. 1. 1. 0.]]\n",
      "2.000000000091887\n",
      "[[-1.07127669e-13  1.30935407e+00  6.90645934e-01  1.64842399e-11]\n",
      " [-5.27771172e-15  0.00000000e+00  6.54677703e-01  1.00000000e+00]\n",
      " [-3.22376157e-16  3.45323636e-01  0.00000000e+00  1.00000000e+00]\n",
      " [ 0.00000000e+00  2.91274916e-13  2.85748353e-13  0.00000000e+00]]\n",
      "[2.00000000e+00 1.65467770e+00 1.34532364e+00 5.77023269e-13]\n",
      "[0.6546777  0.34532364]\n"
     ]
    }
   ],
   "source": [
    "X = cp.Variable((4,4))\n",
    "C = np.array([[0,2,1,0],[2,0,1,1],[1,1,0,1],[0,1,1,0]])\n",
    "print(C)\n",
    "A = np.zeros((4,4))\n",
    "A[C>0] = 1\n",
    "print(A)\n",
    "constraints = [X>=0, X<=C, X[:,0]==0, X[3,:]==0 , ((cp.sum(X[1:3,:],axis=1))-(cp.sum(X[:,1:3],axis=0))) == 0]\n",
    "objective = cp.Maximize(cp.sum(X[0,:]))\n",
    "prob = cp.Problem(objective,constraints)\n",
    "print(prob.solve())\n",
    "print(X.value)\n",
    "print(cp.sum(X,axis=1).value)\n",
    "print(cp.sum(X[1:3,1:3],axis=1).value)"
   ]
  },
  {
   "cell_type": "code",
   "execution_count": null,
   "metadata": {},
   "outputs": [],
   "source": []
  }
 ],
 "metadata": {
  "kernelspec": {
   "display_name": "cvxenv",
   "language": "python",
   "name": "python3"
  },
  "language_info": {
   "codemirror_mode": {
    "name": "ipython",
    "version": 3
   },
   "file_extension": ".py",
   "mimetype": "text/x-python",
   "name": "python",
   "nbconvert_exporter": "python",
   "pygments_lexer": "ipython3",
   "version": "3.10.8"
  },
  "orig_nbformat": 4,
  "vscode": {
   "interpreter": {
    "hash": "47a9eb954e0f90967f36d514395928bf723a02dea3b121467ea63074dff4fc22"
   }
  }
 },
 "nbformat": 4,
 "nbformat_minor": 2
}
