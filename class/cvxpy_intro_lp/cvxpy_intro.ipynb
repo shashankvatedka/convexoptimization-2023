{
 "cells": [
  {
   "cell_type": "code",
   "execution_count": 2,
   "metadata": {},
   "outputs": [],
   "source": [
    "import numpy as np\n",
    "import cvxpy as cp \n",
    "%matplotlib inline\n",
    "import matplotlib.pyplot as plt"
   ]
  },
  {
   "cell_type": "code",
   "execution_count": 3,
   "metadata": {},
   "outputs": [],
   "source": [
    "x = cp.Variable()\n",
    "y = cp.Variable()"
   ]
  },
  {
   "cell_type": "code",
   "execution_count": 4,
   "metadata": {},
   "outputs": [],
   "source": [
    "constraints = [ x>= -1, x<= 1, y >= -1, y <= 1 ]"
   ]
  },
  {
   "cell_type": "code",
   "execution_count": 5,
   "metadata": {},
   "outputs": [],
   "source": [
    "objective = cp.Minimize( x**2 + y**2)"
   ]
  },
  {
   "cell_type": "code",
   "execution_count": 6,
   "metadata": {},
   "outputs": [],
   "source": [
    "problem = cp.Problem(objective, constraints)\n",
    "solution = problem.solve()"
   ]
  },
  {
   "cell_type": "code",
   "execution_count": 7,
   "metadata": {},
   "outputs": [
    {
     "name": "stdout",
     "output_type": "stream",
     "text": [
      "Optimum value =  0.0\n",
      "Optimizer:  0.0 0.0\n"
     ]
    }
   ],
   "source": [
    "print('Optimum value = ', solution)\n",
    "print('Optimizer: ', x.value, y.value)"
   ]
  },
  {
   "cell_type": "markdown",
   "metadata": {},
   "source": [
    "## Max flow on a graph"
   ]
  },
  {
   "cell_type": "code",
   "execution_count": null,
   "metadata": {},
   "outputs": [],
   "source": [
    "# define variables\n",
    "n = 4\n",
    "X = cp.Variable((4,4))\n",
    "# define constraints\n",
    "C = np.array([[0,2,1,0],[2,0,1,1],[1,1,0,1],[0,1,1,0]])\n",
    "constraints = [X>=0, X + cp.transpose(X) <= C, cp.sum(X[1:n-1,:],axis = 1)==cp.sum(cp.transpose(X)[1:n-1,:],axis=1), cp.sum(X[:,0])==0, cp.sum(X[n-1,:])==0]\n",
    "# define objective\n",
    "objective = cp.Maximize(cp.sum(X[0,:]))"
   ]
  },
  {
   "cell_type": "code",
   "execution_count": 9,
   "metadata": {},
   "outputs": [
    {
     "name": "stdout",
     "output_type": "stream",
     "text": [
      "Max flow =  2.000000000035156\n",
      "Optimizer =  [[-1.11794888e-11  1.34157340e+00  6.58426602e-01  1.04779154e-11]\n",
      " [-8.64689711e-12  8.94734019e-14  5.02588193e-01  1.00000000e+00]\n",
      " [ 2.57433729e-11  1.61014795e-01  8.94734019e-14  1.00000000e+00]\n",
      " [-5.93137097e-12  5.87824662e-12 -5.68616735e-12  5.75960182e-12]]\n"
     ]
    }
   ],
   "source": [
    "problem = cp.Problem(objective, constraints)\n",
    "solution = problem.solve()\n",
    "print('Max flow = ',solution)\n",
    "print('Optimizer = ',X.value)"
   ]
  },
  {
   "cell_type": "code",
   "execution_count": 10,
   "metadata": {},
   "outputs": [
    {
     "name": "stdout",
     "output_type": "stream",
     "text": [
      "Max flow =  2.000000000035156\n",
      "Optimizer =  [[-1.11794888e-11  1.34157340e+00  6.58426602e-01  1.04779154e-11]\n",
      " [-8.64689711e-12  8.94734019e-14  5.02588193e-01  1.00000000e+00]\n",
      " [ 2.57433729e-11  1.61014795e-01  8.94734019e-14  1.00000000e+00]\n",
      " [-5.93137097e-12  5.87824662e-12 -5.68616735e-12  5.75960182e-12]]\n"
     ]
    }
   ],
   "source": [
    "problem = cp.Problem(objective, constraints)\n",
    "solution = problem.solve()\n",
    "print('Max flow = ',solution)\n",
    "print('Optimizer = ',X.value)\n"
   ]
  },
  {
   "cell_type": "markdown",
   "metadata": {},
   "source": [
    "## Maximum weight matching"
   ]
  },
  {
   "cell_type": "code",
   "execution_count": 6,
   "metadata": {},
   "outputs": [
    {
     "name": "stdout",
     "output_type": "stream",
     "text": [
      "Solution = 8.599999998745046\n",
      "[[9.60270943e-10 7.95977926e-10 9.99999998e-01]\n",
      " [9.99999999e-01 7.42538910e-10 4.24040827e-10]\n",
      " [2.07006016e-10 9.99999998e-01 1.33217202e-09]]\n"
     ]
    }
   ],
   "source": [
    "W = np.array([[2,1,2.5],[3.1,2,3],[2.1,3,4.1]])\n",
    "X = cp.Variable((3,3))\n",
    "constraints = [X>=0, cp.sum(X,axis=0)==1, cp.sum(X,axis=1)==1]\n",
    "probObjective = cp.Maximize(cp.sum(cp.multiply(W,X)))\n",
    "problem = cp.Problem(probObjective, constraints)\n",
    "solution = problem.solve()\n",
    "print('Solution =', solution)\n",
    "print(X.value)"
   ]
  },
  {
   "cell_type": "code",
   "execution_count": null,
   "metadata": {},
   "outputs": [],
   "source": []
  }
 ],
 "metadata": {
  "kernelspec": {
   "display_name": "cvx_env",
   "language": "python",
   "name": "python3"
  },
  "language_info": {
   "codemirror_mode": {
    "name": "ipython",
    "version": 3
   },
   "file_extension": ".py",
   "mimetype": "text/x-python",
   "name": "python",
   "nbconvert_exporter": "python",
   "pygments_lexer": "ipython3",
   "version": "3.10.8"
  },
  "orig_nbformat": 4,
  "vscode": {
   "interpreter": {
    "hash": "1b5d035dfa82176e81fc61b77e4d73da10e05f6dbd1e7a4445b69879de2fac44"
   }
  }
 },
 "nbformat": 4,
 "nbformat_minor": 2
}
