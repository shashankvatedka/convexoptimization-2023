{
 "cells": [
  {
   "cell_type": "code",
   "execution_count": 1,
   "metadata": {},
   "outputs": [],
   "source": [
    "import numpy as np\n",
    "import cvxpy as cp"
   ]
  },
  {
   "cell_type": "code",
   "execution_count": 10,
   "metadata": {},
   "outputs": [
    {
     "name": "stdout",
     "output_type": "stream",
     "text": [
      "Max correlation =  0.9999999286886118\n"
     ]
    }
   ],
   "source": [
    "C = cp.Variable((3,3),symmetric=True)\n",
    "constraints = [ C[0,1]>= -0.2, C[0,1] <= 0.3, C[0,2] >=0, C[0,0] == 1, C[1,1] == 1, C[2,2] == 1, C>>0 ]\n",
    "objective = cp.Maximize(C[1,2])\n",
    "prob = cp.Problem(objective,constraints)\n",
    "print('Max correlation = ',prob.solve())"
   ]
  },
  {
   "cell_type": "code",
   "execution_count": 11,
   "metadata": {},
   "outputs": [
    {
     "name": "stdout",
     "output_type": "stream",
     "text": [
      "[[1.         0.00920329 0.00920334]\n",
      " [0.00920329 1.         0.99999993]\n",
      " [0.00920334 0.99999993 1.        ]]\n"
     ]
    }
   ],
   "source": [
    "print(C.value)"
   ]
  },
  {
   "cell_type": "code",
   "execution_count": null,
   "metadata": {},
   "outputs": [],
   "source": []
  }
 ],
 "metadata": {
  "kernelspec": {
   "display_name": "cvx_env",
   "language": "python",
   "name": "python3"
  },
  "language_info": {
   "codemirror_mode": {
    "name": "ipython",
    "version": 3
   },
   "file_extension": ".py",
   "mimetype": "text/x-python",
   "name": "python",
   "nbconvert_exporter": "python",
   "pygments_lexer": "ipython3",
   "version": "3.10.8"
  },
  "orig_nbformat": 4,
  "vscode": {
   "interpreter": {
    "hash": "1b5d035dfa82176e81fc61b77e4d73da10e05f6dbd1e7a4445b69879de2fac44"
   }
  }
 },
 "nbformat": 4,
 "nbformat_minor": 2
}
