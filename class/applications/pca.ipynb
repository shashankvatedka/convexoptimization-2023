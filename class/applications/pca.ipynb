{
 "cells": [
  {
   "cell_type": "code",
   "execution_count": 1,
   "metadata": {},
   "outputs": [],
   "source": [
    "import numpy as np\n",
    "import matplotlib.pyplot as plt\n",
    "import cvxpy as cp\n"
   ]
  },
  {
   "cell_type": "code",
   "execution_count": 5,
   "metadata": {},
   "outputs": [
    {
     "name": "stdout",
     "output_type": "stream",
     "text": [
      "[12.18476792  1.66134376  0.1923024   0.50210844  0.84193743]\n",
      "[[0.19810279 0.12615656 0.20191062 0.17480944 0.16728893]\n",
      " [0.12615656 0.17224379 0.15599562 0.15154404 0.17864052]\n",
      " [0.20191062 0.15599562 0.3142438  0.22749253 0.2434567 ]\n",
      " [0.17480944 0.15154404 0.22749253 0.21072216 0.18376669]\n",
      " [0.16728893 0.17864052 0.2434567  0.18376669 0.36712101]]\n",
      "[1.         0.13634595 0.0157822  0.04120788 0.06909754]\n",
      "[[-0.38822337 -0.37383843  0.19557461 -0.81789737 -0.04818629]\n",
      " [-0.34849519  0.07556114  0.39288212  0.27212031 -0.80276759]\n",
      " [-0.52101272 -0.29891359  0.38824661  0.44501663  0.5389074 ]\n",
      " [-0.4252783  -0.34603812 -0.79728462  0.17982086 -0.17719394]\n",
      " [-0.52489792  0.80339507 -0.14490006 -0.1631536   0.1772665 ]]\n"
     ]
    }
   ],
   "source": [
    "X = np.random.rand(5,10)\n",
    "Sigma = X@X.T \n",
    "eigvals,eigvecs = np.linalg.eig(Sigma)\n",
    "print(eigvals)\n",
    "Sigma = Sigma/np.max(eigvals)\n",
    "\n",
    "eigvals,eigvecs = np.linalg.eig(Sigma)\n",
    "print(Sigma)\n",
    "print(eigvals)\n",
    "print(eigvecs)"
   ]
  },
  {
   "cell_type": "code",
   "execution_count": 30,
   "metadata": {},
   "outputs": [
    {
     "name": "stdout",
     "output_type": "stream",
     "text": [
      "[[-1.58885232e-16]\n",
      " [ 3.95317545e-16]\n",
      " [ 4.35474146e-16]\n",
      " [ 1.62493424e-16]\n",
      " [ 5.43441295e-16]]\n",
      "[[0.15071738 0.13529398 0.20226931 0.16510297 0.20377764]\n",
      " [0.13529398 0.1214489  0.18157043 0.14820744 0.1829244 ]\n",
      " [0.20226931 0.18157043 0.27145426 0.2215754  0.2734785 ]\n",
      " [0.16510297 0.14820744 0.2215754  0.18086163 0.2232277 ]\n",
      " [0.20377764 0.1829244  0.2734785  0.2232277  0.27551783]]\n"
     ]
    }
   ],
   "source": [
    "evec = eigvecs[:,0].reshape([5,1]) # evec is the eigenvector corresponding to the largest eigenvalue\n",
    "E = evec @ evec.T\n",
    "print((Sigma-np.eye(5))@ evec)\n",
    "print(E)"
   ]
  },
  {
   "cell_type": "code",
   "execution_count": 29,
   "metadata": {},
   "outputs": [
    {
     "name": "stdout",
     "output_type": "stream",
     "text": [
      "[[0.1507174  0.13529397 0.20226928 0.16510294 0.20377768]\n",
      " [0.13529397 0.12144892 0.18157044 0.14820743 0.18292439]\n",
      " [0.20226928 0.18157044 0.27145427 0.22157537 0.27347852]\n",
      " [0.16510294 0.14820743 0.22157537 0.18086166 0.22322773]\n",
      " [0.20377768 0.18292439 0.27347852 0.22322773 0.27551775]]\n"
     ]
    }
   ],
   "source": [
    "V = cp.Variable([5,5],symmetric=True)\n",
    "objective = cp.Maximize(cp.trace(Sigma.T@Sigma@V))\n",
    "constraints = [cp.trace(V)==1, V>>0, np.eye(5)-V >>0]\n",
    "problem  = cp.Problem(objective, constraints)\n",
    "opt_val = problem.solve()\n",
    "print(V.value)"
   ]
  },
  {
   "cell_type": "code",
   "execution_count": 31,
   "metadata": {},
   "outputs": [
    {
     "data": {
      "text/plain": [
       "array([[-1.76238092e-08,  3.29440447e-09,  3.01717849e-08,\n",
       "         3.56757879e-08, -4.07959670e-08],\n",
       "       [ 3.29440447e-09, -2.42015202e-08, -9.26417043e-09,\n",
       "         1.37505884e-08,  1.81581694e-08],\n",
       "       [ 3.01717849e-08, -9.26417043e-09, -1.16656571e-08,\n",
       "         3.35054741e-08, -2.20560062e-08],\n",
       "       [ 3.56757879e-08,  1.37505884e-08,  3.35054741e-08,\n",
       "        -2.75313164e-08, -3.85693381e-08],\n",
       "       [-4.07959670e-08,  1.81581694e-08, -2.20560062e-08,\n",
       "        -3.85693381e-08,  8.10100936e-08]])"
      ]
     },
     "execution_count": 31,
     "metadata": {},
     "output_type": "execute_result"
    }
   ],
   "source": [
    "E-V.value"
   ]
  },
  {
   "cell_type": "code",
   "execution_count": null,
   "metadata": {},
   "outputs": [],
   "source": []
  }
 ],
 "metadata": {
  "kernelspec": {
   "display_name": "cvx_env",
   "language": "python",
   "name": "python3"
  },
  "language_info": {
   "codemirror_mode": {
    "name": "ipython",
    "version": 3
   },
   "file_extension": ".py",
   "mimetype": "text/x-python",
   "name": "python",
   "nbconvert_exporter": "python",
   "pygments_lexer": "ipython3",
   "version": "3.10.8"
  },
  "orig_nbformat": 4
 },
 "nbformat": 4,
 "nbformat_minor": 2
}
